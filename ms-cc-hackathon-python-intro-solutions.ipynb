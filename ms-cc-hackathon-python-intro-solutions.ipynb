{
 "cells": [
  {
   "cell_type": "markdown",
   "id": "d1dd8b39",
   "metadata": {},
   "source": [
    "# 🌱 Intro to Python: Carbon Footprint Edition\n",
    "\n",
    "Welcome to your first Python lesson! In this notebook, we’ll explore Python basics while thinking about real-world data related to **carbon footprints** 🌍💨.\"\n",
    "\n",
    "***"
   ]
  },
  {
   "cell_type": "markdown",
   "id": "afc62f53",
   "metadata": {
    "vscode": {
     "languageId": "plaintext"
    }
   },
   "source": [
    "## 🔤 Python Variables\n",
    "Variables store information. Let’s store the average carbon footprint (in metric tons of CO₂ per year) for individuals in different countries."
   ]
  },
  {
   "cell_type": "code",
   "execution_count": 2,
   "id": "23d3c1e9",
   "metadata": {},
   "outputs": [
    {
     "name": "stdout",
     "output_type": "stream",
     "text": [
      "USA: 16.5\n",
      "India: 1.9\n",
      "Nigeria: 0.7\n"
     ]
    }
   ],
   "source": [
    "# Define variable names for average individual CO2 emissions (in tons)\n",
    "usa_footprint = 16.5\n",
    "india_footprint = 1.9\n",
    "nigeria_footprint = 0.7\n",
    "\n",
    "# Use print() statements to report values\n",
    "print(\"USA:\", usa_footprint)\n",
    "print(\"India:\", india_footprint)\n",
    "print(\"Nigeria:\", nigeria_footprint)"
   ]
  },
  {
   "cell_type": "markdown",
   "id": "aadd1a05",
   "metadata": {},
   "source": [
    "## ➕ Python Operators\n",
    "We can do math with Python. Let’s calculate the difference between footprints."
   ]
  },
  {
   "cell_type": "code",
   "execution_count": 3,
   "id": "a1cbaa3d",
   "metadata": {},
   "outputs": [
    {
     "name": "stdout",
     "output_type": "stream",
     "text": [
      "Carbon footprint difference between USA and India: 14.6\n"
     ]
    }
   ],
   "source": [
    "difference = usa_footprint - india_footprint\n",
    "\n",
    "print(\"Carbon footprint difference between USA and India:\", difference)"
   ]
  },
  {
   "cell_type": "markdown",
   "id": "9ecf8ae4",
   "metadata": {},
   "source": [
    "You can use:\n",
    "\n",
    "+ `+` for addition\n",
    "\n",
    "+ `-` for subtraction\n",
    "\n",
    "+ `*` for multiplication\n",
    "\n",
    "+ `/` for division\n",
    "\n",
    "Let’s calculate how much CO₂ 5 people in the U.S. emit:"
   ]
  },
  {
   "cell_type": "code",
   "execution_count": 4,
   "id": "0d6bbfca",
   "metadata": {},
   "outputs": [
    {
     "name": "stdout",
     "output_type": "stream",
     "text": [
      "Total footprint for 5 people in the USA: 82.5 tons\n"
     ]
    }
   ],
   "source": [
    "group_usa = usa_footprint * 5\n",
    "\n",
    "print(\"Total footprint for 5 people in the USA:\", group_usa, \"tons\")"
   ]
  },
  {
   "cell_type": "markdown",
   "id": "5d026d64",
   "metadata": {},
   "source": [
    "## 📋 Lists in Python\n",
    "A list lets us store multiple values in one place."
   ]
  },
  {
   "cell_type": "code",
   "execution_count": 5,
   "id": "c92d1bde",
   "metadata": {},
   "outputs": [
    {
     "name": "stdout",
     "output_type": "stream",
     "text": [
      "Countries: ['USA', 'India', 'Nigeria']\n",
      "Footprints: [16.5, 1.9, 0.7]\n"
     ]
    }
   ],
   "source": [
    "countries = [\"USA\", \"India\", \"Nigeria\"]\n",
    "footprints = [16.5, 1.9, 0.7]\n",
    "\n",
    "print(\"Countries:\", countries)\n",
    "print(\"Footprints:\", footprints)"
   ]
  },
  {
   "cell_type": "markdown",
   "id": "23ab8a8b",
   "metadata": {},
   "source": [
    "We can get specific values from a list using indexing:"
   ]
  },
  {
   "cell_type": "code",
   "execution_count": 6,
   "id": "8afaea16",
   "metadata": {},
   "outputs": [
    {
     "name": "stdout",
     "output_type": "stream",
     "text": [
      "Carbon footprint for USA is 16.5 tons\n"
     ]
    }
   ],
   "source": [
    "print(\"Carbon footprint for\", countries[0], \"is\", footprints[0], \"tons\")"
   ]
  },
  {
   "cell_type": "markdown",
   "id": "8b0d89bd",
   "metadata": {},
   "source": [
    "## 🔁 Loops\n",
    "Let’s loop through our list and print out each country’s footprint."
   ]
  },
  {
   "cell_type": "code",
   "execution_count": 7,
   "id": "cb66bd7b",
   "metadata": {},
   "outputs": [
    {
     "name": "stdout",
     "output_type": "stream",
     "text": [
      "USA\n",
      "India\n",
      "Nigeria\n"
     ]
    }
   ],
   "source": [
    "for i in countries:\n",
    "    print(i)"
   ]
  },
  {
   "cell_type": "code",
   "execution_count": 8,
   "id": "1fa498f0",
   "metadata": {},
   "outputs": [
    {
     "name": "stdout",
     "output_type": "stream",
     "text": [
      "USA emits 16.5 metric tons of CO₂ per year\n",
      "India emits 1.9 metric tons of CO₂ per year\n",
      "Nigeria emits 0.7 metric tons of CO₂ per year\n"
     ]
    }
   ],
   "source": [
    "for country, footprint in zip(countries, footprints):\n",
    "    print(country, \"emits\", footprint, \"metric tons of CO₂ per year\")"
   ]
  },
  {
   "cell_type": "markdown",
   "id": "8e22729f",
   "metadata": {},
   "source": [
    "# 🧮 Functions\n",
    "Functions let us reuse code. Let’s write one that estimates a total footprint based on per-person values."
   ]
  },
  {
   "cell_type": "code",
   "execution_count": 9,
   "id": "7062a157",
   "metadata": {},
   "outputs": [
    {
     "name": "stdout",
     "output_type": "stream",
     "text": [
      "3 people in the USA emit 49.5 tons of CO₂\n"
     ]
    }
   ],
   "source": [
    "def total_footprint(per_person, num_people):\n",
    "    total = per_person * num_people\n",
    "    return total\n",
    "\n",
    "# Example usage\n",
    "group_total = total_footprint(usa_footprint, 3)\n",
    "print(\"3 people in the USA emit\", group_total, \"tons of CO₂\")"
   ]
  },
  {
   "cell_type": "markdown",
   "id": "f37d32cb",
   "metadata": {},
   "source": [
    "# ✅ Challenge: Try it yourself!\n",
    "1.) Add another country to the list with its carbon footprint.\n",
    "\n",
    "2.) Write a function that tells you whether a country's footprint is low, medium, or high.\n",
    "\n",
    "3.) Use a loop to print each country’s status using your new function"
   ]
  }
 ],
 "metadata": {
  "kernelspec": {
   "display_name": "base",
   "language": "python",
   "name": "python3"
  },
  "language_info": {
   "codemirror_mode": {
    "name": "ipython",
    "version": 3
   },
   "file_extension": ".py",
   "mimetype": "text/x-python",
   "name": "python",
   "nbconvert_exporter": "python",
   "pygments_lexer": "ipython3",
   "version": "3.11.6"
  }
 },
 "nbformat": 4,
 "nbformat_minor": 5
}
