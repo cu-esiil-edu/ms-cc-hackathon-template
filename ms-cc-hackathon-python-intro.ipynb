{
 "cells": [
  {
   "cell_type": "markdown",
   "id": "5120feb1",
   "metadata": {},
   "source": [
    "# 🌱 Intro to Python: Carbon Footprint Edition\n",
    "\n",
    "Welcome to your first Python lesson! In this notebook, we’ll explore Python basics while thinking about real-world data related to **carbon footprints** 🌍💨.\"\n",
    "\n",
    "***"
   ]
  },
  {
   "cell_type": "markdown",
   "id": "1e5d0c6f",
   "metadata": {},
   "source": [
    "## 🔤 Python Variables\n",
    "Variables store information. Let’s store the average carbon footprint (in metric tons of CO₂ per year) for individuals in different countries."
   ]
  },
  {
   "cell_type": "code",
   "execution_count": null,
   "id": "4ddc5b6e",
   "metadata": {},
   "outputs": [
    {
     "name": "stdout",
     "output_type": "stream",
     "text": [
      "USA: 16.5\n",
      "India: 1.9\n",
      "Nigeria: 0.7\n"
     ]
    }
   ],
   "source": [
    "# Define variable names for average individual CO2 emissions (in tons)\n",
    "usa_footprint = 16.5\n",
    "india_footprint = 1.9\n",
    "nigeria_footprint = 0.7\n",
    "\n",
    "# Use print() statements to report values\n",
    "print(\"USA:\", usa_footprint)\n",
    "print(\"India:\", india_footprint)\n",
    "print(\"Nigeria:\", nigeria_footprint)\n"
   ]
  },
  {
   "cell_type": "markdown",
   "id": "7a05f34d",
   "metadata": {},
   "source": [
    "## ➕ Python Operators\n",
    "We can do math with Python. Let’s calculate the difference between footprints."
   ]
  },
  {
   "cell_type": "code",
   "execution_count": null,
   "id": "6afc7a13",
   "metadata": {},
   "outputs": [
    {
     "name": "stdout",
     "output_type": "stream",
     "text": [
      "Carbon footprint difference between USA and India: 14.6\n"
     ]
    }
   ],
   "source": [
    "difference = usa_footprint - india_footprint\n",
    "\n",
    "print(\"Carbon footprint difference between USA and India:\", difference)"
   ]
  },
  {
   "cell_type": "markdown",
   "id": "4ca45818",
   "metadata": {},
   "source": [
    "You can use:\n",
    "\n",
    "+ `+` for addition\n",
    "\n",
    "+ `-` for subtraction\n",
    "\n",
    "+ `*` for multiplication\n",
    "\n",
    "+ `/` for division\n",
    "\n",
    "Let’s calculate how much CO₂ 5 people in the U.S. emit:"
   ]
  },
  {
   "cell_type": "code",
   "execution_count": 5,
   "id": "a1a239f7",
   "metadata": {},
   "outputs": [
    {
     "name": "stdout",
     "output_type": "stream",
     "text": [
      "Total footprint for 5 people in the USA: 82.5 tons\n"
     ]
    }
   ],
   "source": [
    "group_usa = usa_footprint * 5\n",
    "\n",
    "print(\"Total footprint for 5 people in the USA:\", group_usa, \"tons\")"
   ]
  },
  {
   "cell_type": "markdown",
   "id": "3a38ba31",
   "metadata": {},
   "source": [
    "## 📋 Lists in Python\n",
    "A list lets us store multiple values in one place."
   ]
  },
  {
   "cell_type": "code",
   "execution_count": 6,
   "id": "cf3b2552",
   "metadata": {},
   "outputs": [
    {
     "name": "stdout",
     "output_type": "stream",
     "text": [
      "Countries: ['USA', 'India', 'Nigeria']\n",
      "Footprints: [16.5, 1.9, 0.7]\n"
     ]
    }
   ],
   "source": [
    "countries = [\"USA\", \"India\", \"Nigeria\"]\n",
    "footprints = [16.5, 1.9, 0.7]\n",
    "\n",
    "print(\"Countries:\", countries)\n",
    "print(\"Footprints:\", footprints)"
   ]
  },
  {
   "cell_type": "markdown",
   "id": "d399b09e",
   "metadata": {},
   "source": [
    "We can get specific values from a list using indexing:"
   ]
  },
  {
   "cell_type": "code",
   "execution_count": 7,
   "id": "466dfe58",
   "metadata": {},
   "outputs": [
    {
     "name": "stdout",
     "output_type": "stream",
     "text": [
      "Carbon footprint for USA is 16.5 tons\n"
     ]
    }
   ],
   "source": [
    "print(\"Carbon footprint for\", countries[0], \"is\", footprints[0], \"tons\")"
   ]
  },
  {
   "cell_type": "markdown",
   "id": "d33368e7",
   "metadata": {},
   "source": [
    "## 🔁 Loops\n",
    "Let’s loop through our list and print out each country’s footprint."
   ]
  },
  {
   "cell_type": "code",
   "execution_count": 13,
   "id": "42e0182a",
   "metadata": {},
   "outputs": [
    {
     "name": "stdout",
     "output_type": "stream",
     "text": [
      "USA\n",
      "India\n",
      "Nigeria\n"
     ]
    }
   ],
   "source": [
    "for i in countries:\n",
    "    print(i)"
   ]
  },
  {
   "cell_type": "code",
   "execution_count": 12,
   "id": "65d49068",
   "metadata": {},
   "outputs": [
    {
     "name": "stdout",
     "output_type": "stream",
     "text": [
      "USA emits 16.5 metric tons of CO₂ per year\n",
      "India emits 1.9 metric tons of CO₂ per year\n",
      "Nigeria emits 0.7 metric tons of CO₂ per year\n"
     ]
    }
   ],
   "source": [
    "for country, footprint in zip(countries, footprints):\n",
    "    print(country, \"emits\", footprint, \"metric tons of CO₂ per year\")"
   ]
  },
  {
   "cell_type": "code",
   "execution_count": 9,
   "id": "44313bbf",
   "metadata": {},
   "outputs": [
    {
     "name": "stdout",
     "output_type": "stream",
     "text": [
      "USA emits 16.5 metric tons of CO₂ per year\n",
      "India emits 1.9 metric tons of CO₂ per year\n",
      "Nigeria emits 0.7 metric tons of CO₂ per year\n"
     ]
    }
   ],
   "source": [
    "for i in range(len(countries)):\n",
    "    print(countries[i], \"emits\", footprints[i], \"metric tons of CO₂ per year\")"
   ]
  }
 ],
 "metadata": {
  "kernelspec": {
   "display_name": "base",
   "language": "python",
   "name": "python3"
  },
  "language_info": {
   "codemirror_mode": {
    "name": "ipython",
    "version": 3
   },
   "file_extension": ".py",
   "mimetype": "text/x-python",
   "name": "python",
   "nbconvert_exporter": "python",
   "pygments_lexer": "ipython3",
   "version": "3.11.6"
  }
 },
 "nbformat": 4,
 "nbformat_minor": 5
}
